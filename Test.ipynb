{
 "cells": [
  {
   "cell_type": "markdown",
   "id": "dd77bd4c-a107-4077-99f0-e4d9841bb1b3",
   "metadata": {},
   "source": [
    "https://paperswithcode.com/"
   ]
  },
  {
   "cell_type": "code",
   "execution_count": 1,
   "id": "55aff969-7397-4008-ae83-edfdaee92898",
   "metadata": {
    "tags": []
   },
   "outputs": [],
   "source": [
    "# import logging\n",
    "\n",
    "# logging.basicConfig(\n",
    "#     level=logging.DEBUG,\n",
    "#     filename = \"mylog.log\",\n",
    "#     format = \"%(asctime)s - %(module)s - %(levelname)s - %(funcName)s: %(lineno)d - %(message)s\",\n",
    "#     datefmt='%H:%M:%S',\n",
    "#     )\n",
    "\n",
    "# logging.info('Hello')\n"
   ]
  },
  {
   "cell_type": "code",
   "execution_count": 3,
   "id": "245faeaf-6480-4b5c-bde3-bb30ac440dc5",
   "metadata": {},
   "outputs": [
    {
     "name": "stdout",
     "output_type": "stream",
     "text": [
      "hello jupyter\n"
     ]
    }
   ],
   "source": [
    "print(\"hello jupyter\")"
   ]
  },
  {
   "cell_type": "code",
   "execution_count": null,
   "id": "203eb099-9ea0-49e8-895f-9a96b61131a0",
   "metadata": {},
   "outputs": [],
   "source": []
  }
 ],
 "metadata": {
  "kernelspec": {
   "display_name": "Python 3 (ipykernel)",
   "language": "python",
   "name": "python3"
  },
  "language_info": {
   "codemirror_mode": {
    "name": "ipython",
    "version": 3
   },
   "file_extension": ".py",
   "mimetype": "text/x-python",
   "name": "python",
   "nbconvert_exporter": "python",
   "pygments_lexer": "ipython3",
   "version": "3.9.12"
  }
 },
 "nbformat": 4,
 "nbformat_minor": 5
}
